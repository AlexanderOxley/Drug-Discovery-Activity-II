{
 "cells": [
  {
   "cell_type": "markdown",
   "metadata": {},
   "source": [
    "# Offline Activities of Module II\n"
   ]
  },
  {
   "cell_type": "markdown",
   "metadata": {},
   "source": [
    "## Task 1\n",
    "\n",
    "Retrieve all approved drugs from the ChEMBL database, sort them by approval year and name."
   ]
  },
  {
   "cell_type": "code",
   "execution_count": 1,
   "metadata": {},
   "outputs": [
    {
     "data": {
      "application/vnd.jupyter.widget-view+json": {
       "model_id": "edb4e6d530ce46b7bd799276bd162292",
       "version_major": 2,
       "version_minor": 0
      },
      "text/plain": [
       "Processing drugs:   0%|          | 0/543 [00:00<?, ?it/s]"
      ]
     },
     "metadata": {},
     "output_type": "display_data"
    }
   ],
   "source": [
    "\n",
    "from chembl_webresource_client.new_client import new_client\n",
    "import pandas as pd\n",
    "from tqdm.notebook import tqdm\n",
    "\n",
    "# Initialize the drug client\n",
    "drug = new_client.drug\n",
    "\n",
    "# Fetch all approved drugs with a first approval year from 2014 onwards\n",
    "approved_drugs = drug.filter(first_approval__gte=2014, max_phase=4)\n",
    "\n",
    "# Helper function to extract INN names\n",
    "def get_inn_name(drug_info):\n",
    "    synonyms = drug_info.get('molecule_synonyms', [])\n",
    "    inn_names = [syn['synonyms'] for syn in synonyms if syn['syn_type'] == 'INN']\n",
    "    return \"; \".join(inn_names) if inn_names else \"No INN\"\n",
    "\n",
    "# Prepare lists to hold data for DataFrame construction\n",
    "data = {\n",
    "    'molecule_chembl_id': [],\n",
    "    'first_approval': [],\n",
    "    'inn_name': [],\n",
    "    'max_phase': []\n",
    "}\n",
    "\n",
    "# Iterate over each drug record\n",
    "for drug in tqdm(approved_drugs, desc=\"Processing drugs\"):\n",
    "    data['molecule_chembl_id'].append(drug.get('molecule_chembl_id', ''))\n",
    "    data['first_approval'].append(drug.get('first_approval', ''))\n",
    "    inn_name = get_inn_name(drug)  # Capture the INN name using the helper function\n",
    "    data['inn_name'].append(inn_name)\n",
    "    data['max_phase'].append(drug.get('max_phase', ''))\n",
    "\n",
    "# Convert to DataFrame\n",
    "df_drugs = pd.DataFrame(data)\n",
    "\n",
    "# Sort DataFrame by INN name and first approval\n",
    "df_drugs.sort_values(by=['inn_name', 'first_approval'], ascending=[True, True], inplace=True)\n",
    "\n",
    "# Export to CSV\n",
    "df_drugs.to_csv('sorted_approved_drugs.csv', index=False)"
   ]
  },
  {
   "cell_type": "markdown",
   "metadata": {},
   "source": [
    "## Task 2\n",
    "\n",
    "For each approved drug since 2014 that you identified in step (1), retrieve a list of UniProt accession numbers, namely protein targets associated with the drug;\n"
   ]
  },
  {
   "cell_type": "code",
   "execution_count": 2,
   "metadata": {},
   "outputs": [
    {
     "data": {
      "application/vnd.jupyter.widget-view+json": {
       "model_id": "94e31b60b31c4744a34b3ca51929f11d",
       "version_major": 2,
       "version_minor": 0
      },
      "text/plain": [
       "Loading approved drugs:   0%|          | 0/543 [00:00<?, ?it/s]"
      ]
     },
     "metadata": {},
     "output_type": "display_data"
    },
    {
     "name": "stdout",
     "output_type": "stream",
     "text": [
      "  applicants atc_code_description  first_approval molecule_chembl_id  \\\n",
      "0       None                 None            2022           CHEMBL40   \n",
      "1       None                 None            2022           CHEMBL45   \n",
      "2       None                 None            2017          CHEMBL110   \n",
      "3       None                 None            2018        CHEMBL17860   \n",
      "4       None                 None            2017       CHEMBL278623   \n",
      "\n",
      "  research_codes synonyms  \n",
      "0           None     None  \n",
      "1           None     None  \n",
      "2           None     None  \n",
      "3           None     None  \n",
      "4           None     None  \n"
     ]
    },
    {
     "data": {
      "application/vnd.jupyter.widget-view+json": {
       "model_id": "c80777ca4f4d414f88cce63735112f85",
       "version_major": 2,
       "version_minor": 0
      },
      "text/plain": [
       "Mapping compounds to targets:   0%|          | 0/2 [00:00<?, ?it/s]"
      ]
     },
     "metadata": {},
     "output_type": "display_data"
    },
    {
     "data": {
      "application/vnd.jupyter.widget-view+json": {
       "model_id": "7aa815cbd3c54af29e37faaa43ee8b0f",
       "version_major": 2,
       "version_minor": 0
      },
      "text/plain": [
       "Mapping ChEMBL IDs to UniProt:   0%|          | 0/50 [00:00<?, ?it/s]"
      ]
     },
     "metadata": {},
     "output_type": "display_data"
    },
    {
     "name": "stdout",
     "output_type": "stream",
     "text": [
      "  ChEMBL_ID UniProt\n",
      "0  CHEMBL40  A6XA80\n",
      "1  CHEMBL40  P11712\n",
      "2  CHEMBL40  P11229\n",
      "3  CHEMBL40  P50406\n",
      "4  CHEMBL40  P02768\n"
     ]
    }
   ],
   "source": [
    "from chembl_webresource_client.new_client import new_client\n",
    "import pandas as pd\n",
    "from tqdm.notebook import tqdm\n",
    "\n",
    "# Initialize ChEMBL client\n",
    "chembl_client = new_client\n",
    "\n",
    "# Define the size of chunks for processing large datasets\n",
    "chunk_size = 25 \n",
    "\n",
    "# Fetch approved drugs since 2014\n",
    "approved_drugs = chembl_client.drug.filter(first_approval__gte=2014, max_phase=4).only(['molecule_chembl_id', 'first_approval'])\n",
    "approved_drugs_df = pd.DataFrame([drug for drug in tqdm(approved_drugs, desc=\"Loading approved drugs\")])\n",
    "\n",
    "# Display basic drug information\n",
    "print(approved_drugs_df.head())\n",
    "\n",
    "# Select the first 50 drugs for demonstration purposes\n",
    "drugs_approved = approved_drugs_df['molecule_chembl_id'][:50]\n",
    "\n",
    "# Dictionary to store compound to target ChEMBL IDs\n",
    "comp2target = {d: set() for d in drugs_approved}\n",
    "\n",
    "# Retrieve activities to map compounds to target ChEMBL IDs\n",
    "keys = list(comp2target.keys())\n",
    "for i in tqdm(range(0, len(keys), chunk_size), desc=\"Mapping compounds to targets\"):\n",
    "    activities = chembl_client.activity.filter(molecule_chembl_id__in=keys[i:i + chunk_size]).only('molecule_chembl_id', 'target_chembl_id')\n",
    "    for activity in activities:\n",
    "        comp2target[activity['molecule_chembl_id']].add(activity['target_chembl_id'])\n",
    "\n",
    "# Dictionary to store compound to UniProt IDs\n",
    "for key in tqdm(keys, desc=\"Mapping ChEMBL IDs to UniProt\"):\n",
    "    uniprots = set()\n",
    "    vals = list(comp2target[key])\n",
    "    for i in range(0, len(vals), chunk_size):\n",
    "        targets = chembl_client.target.filter(target_chembl_id__in=vals[i:i + chunk_size]).only('target_components')\n",
    "        for target in targets:\n",
    "            for component in target['target_components']:\n",
    "                uniprots.add(component['accession'])\n",
    "    comp2target[key] = uniprots\n",
    "\n",
    "# Creating DataFrame for compound to UniProt mapping\n",
    "comp2uniprot_df = pd.DataFrame([(k, v) for k, vals in comp2target.items() for v in vals], columns=['ChEMBL_ID', 'UniProt'])\n",
    "\n",
    "# Display the DataFrame\n",
    "print(comp2uniprot_df.head())\n",
    "\n",
    "# Export the results\n",
    "comp2uniprot_df.to_csv('chembl_drugs_to_uniprot.tsv', sep='\\t', index=False)\n"
   ]
  },
  {
   "cell_type": "markdown",
   "metadata": {},
   "source": [
    "## Task 3\n",
    "\n",
    "For each protein with a UniProt accession number that you identified in step (2), retrieve UniProt keywords associated with it"
   ]
  },
  {
   "cell_type": "code",
   "execution_count": 3,
   "metadata": {},
   "outputs": [
    {
     "data": {
      "application/vnd.jupyter.widget-view+json": {
       "model_id": "766b4044e5d848f6a1f78a33068535d0",
       "version_major": 2,
       "version_minor": 0
      },
      "text/plain": [
       "Fetching keywords:   0%|          | 0/3582 [00:00<?, ?it/s]"
      ]
     },
     "metadata": {},
     "output_type": "display_data"
    },
    {
     "name": "stdout",
     "output_type": "stream",
     "text": [
      "     UniProt                                           Keywords\n",
      "0     A6XA80  [Endoplasmic reticulum, Leukotriene biosynthes...\n",
      "1     P11712  [3D-structure, Alternative splicing, Direct pr...\n",
      "2     P11229  [3D-structure, Alternative splicing, Cell memb...\n",
      "3     P50406  [3D-structure, Cell membrane, Disulfide bond, ...\n",
      "4     P02768  [3D-structure, Alternative splicing, Calcium, ...\n",
      "...      ...                                                ...\n",
      "3577  P0DTD1  [3D-structure, Activation of host autophagy by...\n",
      "3578  Q12809  [3D-structure, Alternative splicing, Cell memb...\n",
      "3579  P14416  [3D-structure, Alternative splicing, Cell memb...\n",
      "3580  P03372  [3D-structure, Activator, Alternative promoter...\n",
      "3581  P10275  [3D-structure, Activator, Alternative splicing...\n",
      "\n",
      "[3582 rows x 2 columns]\n"
     ]
    }
   ],
   "source": [
    "import requests\n",
    "from tqdm.notebook import tqdm\n",
    "import pandas as pd\n",
    "\n",
    "\n",
    "# Load the DataFrame with UniProt accessions from the saved file\n",
    "df = pd.read_csv('chembl_drugs_to_uniprot.tsv', sep='\\t', usecols=['UniProt'])\n",
    "\n",
    "\n",
    "# Base URL for the UniProt REST API\n",
    "base_url = \"https://www.ebi.ac.uk/proteins/api/proteins\"\n",
    "\n",
    "# Function to retrieve keywords for a given UniProt accession\n",
    "def fetch_keywords(accession):\n",
    "    response = requests.get(f\"{base_url}/{accession}\", headers={\"Accept\": \"application/json\"})\n",
    "    if response.status_code == 200:\n",
    "        json_data = response.json()\n",
    "        # Extract keywords, handling cases where no keywords are found\n",
    "        keywords = [keyword['value'] for keyword in json_data.get('keywords', [])]\n",
    "        return keywords\n",
    "    else:\n",
    "        print(f\"Failed to retrieve data for {accession}: {response.status_code}\")\n",
    "        return []\n",
    "\n",
    "# List to hold keywords for each protein\n",
    "all_keywords = []\n",
    "\n",
    "# Loop over UniProt accessions with progress bar\n",
    "for accession in tqdm(df['UniProt'], desc=\"Fetching keywords\"):\n",
    "    keywords = fetch_keywords(accession)\n",
    "    all_keywords.append((accession, keywords))\n",
    "\n",
    "# Convert results to DataFrame\n",
    "keywords_df = pd.DataFrame(all_keywords, columns=['UniProt', 'Keywords'])\n",
    "\n",
    "# Display the DataFrame\n",
    "print(keywords_df)\n",
    "\n",
    "# Export the results to CSV\n",
    "keywords_df.to_csv('uniprot_keywords.csv', index=False)"
   ]
  }
 ],
 "metadata": {
  "kernelspec": {
   "display_name": "Python 3",
   "language": "python",
   "name": "python3"
  },
  "language_info": {
   "codemirror_mode": {
    "name": "ipython",
    "version": 3
   },
   "file_extension": ".py",
   "mimetype": "text/x-python",
   "name": "python",
   "nbconvert_exporter": "python",
   "pygments_lexer": "ipython3",
   "version": "3.11.4"
  }
 },
 "nbformat": 4,
 "nbformat_minor": 2
}
